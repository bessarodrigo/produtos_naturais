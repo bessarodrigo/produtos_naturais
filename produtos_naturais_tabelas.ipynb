{
 "cells": [
  {
   "cell_type": "code",
   "execution_count": 11,
   "id": "3bfc568e-c940-4235-ac9c-aa16a3ad3e37",
   "metadata": {},
   "outputs": [],
   "source": [
    "import pandas as pd\n",
    "from sqlalchemy import create_engine\n",
    "import os\n",
    "from dotenv import load_dotenv"
   ]
  },
  {
   "cell_type": "code",
   "execution_count": 12,
   "id": "fc4225c2-6748-427f-93be-7bbbf8e19c77",
   "metadata": {},
   "outputs": [
    {
     "name": "stdout",
     "output_type": "stream",
     "text": [
      "Caminho da pasta: /home/rodrigo/Documentos/GitHub/produtos_naturais.xlsx\n"
     ]
    }
   ],
   "source": [
    "# Carregar variáveis de ambiente do arquivo .env\n",
    "load_dotenv()\n",
    "\n",
    "# Obter o caminho da pasta do arquivo .env\n",
    "rota = os.getenv('CAMINHO_PASTA')\n",
    "\n",
    "# Verificar se a variável foi carregada corretamente\n",
    "if rota is None:\n",
    "    raise ValueError(\"A variável de ambiente 'CAMINHO_PASTA' não foi encontrada. Verifique o arquivo .env.\")\n",
    "\n",
    "print(f\"Caminho da pasta: {rota}\")"
   ]
  },
  {
   "cell_type": "code",
   "execution_count": 9,
   "id": "de8308fc-11ad-4a98-8dc0-da00ffdd6080",
   "metadata": {},
   "outputs": [
    {
     "ename": "SyntaxError",
     "evalue": "invalid syntax (1351070967.py, line 2)",
     "output_type": "error",
     "traceback": [
      "\u001b[0;36m  Cell \u001b[0;32mIn[9], line 2\u001b[0;36m\u001b[0m\n\u001b[0;31m    rota = os.getenv(/home/rodrigo/Documentos/GitHub/produtos_naturais.xlsx)\u001b[0m\n\u001b[0m                     ^\u001b[0m\n\u001b[0;31mSyntaxError\u001b[0m\u001b[0;31m:\u001b[0m invalid syntax\n"
     ]
    }
   ],
   "source": [
    "# Passo 1: Carregar os Dados\n",
    "rota = os.getenv('CAMINHO_PASTA')\n",
    "df = pd.read_excel(rota)"
   ]
  },
  {
   "cell_type": "code",
   "execution_count": null,
   "id": "b82e571c-7c24-4460-a202-1e603e9a892d",
   "metadata": {},
   "outputs": [],
   "source": [
    "# Passo 2: Criar Tabelas Características\n",
    "df['filial_id'] = df['filial_nome'].factorize()[0]\n",
    "df['vendedor_id'] = df['vendedor'].factorize()[0]\n",
    "\n",
    "d_filial = df[['filial_id', 'filial_nome']].drop_duplicates().reset_index(drop=True)\n",
    "d_vendedor = df[['vendedor_id', 'vendedor']].drop_duplicates().reset_index(drop=True)"
   ]
  },
  {
   "cell_type": "code",
   "execution_count": null,
   "id": "3bd7d0fc-a852-4da3-b7a0-851747be4af6",
   "metadata": {},
   "outputs": [],
   "source": [
    "# Passo 3: Criar a Tabela Fato\n",
    "f_base_vendas = df[['data', 'filial_id', 'vendedor_id', 'produto', 'quantidade_vendida', 'valor']]"
   ]
  },
  {
   "cell_type": "code",
   "execution_count": null,
   "id": "3606f267-b9c9-418a-8e6b-0d94140ff31f",
   "metadata": {},
   "outputs": [],
   "source": [
    "# Passo 4: Conectar ao Banco de Dados\n",
    "\n",
    "engine = create_engine(f\"postgresql://{ os.getenv('USUARIO_BD')}:{ os.getenv('SENHA_BD')}@localhost:5432/{ os.getenv('NOME_BD')}\")\n",
    "\n",
    "print( os.getenv('USUARIO_BD'))"
   ]
  },
  {
   "cell_type": "code",
   "execution_count": null,
   "id": "13805a24-6438-4664-86b4-4e265d89202b",
   "metadata": {},
   "outputs": [],
   "source": [
    "# Passo 5: Criar Tabelas no Banco de Dados\n",
    "create_d_filial = \"\"\"\n",
    "CREATE TABLE IF NOT EXISTS d_filial (\n",
    "    filial_id SERIAL PRIMARY KEY,\n",
    "    nome VARCHAR(255)\n",
    ");\n",
    "\"\"\"\n",
    "\n",
    "create_d_vendedor = \"\"\"\n",
    "CREATE TABLE IF NOT EXISTS d_vendedor (\n",
    "    vendedor_id SERIAL PRIMARY KEY,\n",
    "    nome VARCHAR(255)\n",
    ");\n",
    "\"\"\"\n",
    "\n",
    "create_f_base_vendas = \"\"\"\n",
    "CREATE TABLE IF NOT EXISTS f_base_vendas (\n",
    "    id SERIAL PRIMARY KEY,\n",
    "    data DATE,\n",
    "    filial_id INT,\n",
    "    vendedor_id INT,\n",
    "    produto VARCHAR(255),\n",
    "    quantidade_vendida INT,\n",
    "    valor DECIMAL(10, 2),\n",
    "    FOREIGN KEY (filial_id) REFERENCES d_filial(filial_id),\n",
    "    FOREIGN KEY (vendedor_id) REFERENCES d_vendedor(vendedor_id)\n",
    ");\n",
    "\"\"\"\n",
    "\n",
    "with engine.connect() as conn:\n",
    "    conn.execute(create_d_filial)\n",
    "    conn.execute(create_d_vendedor)\n",
    "    conn.execute(create_f_base_vendas)"
   ]
  },
  {
   "cell_type": "code",
   "execution_count": null,
   "id": "a4af8548-b521-4a03-8c36-16f1d52f790f",
   "metadata": {},
   "outputs": [],
   "source": [
    "# Passo 6: Inserir Dados no Banco de Dados\n",
    "d_filial.to_sql('d_filial', engine, if_exists='append', index=False)\n",
    "d_vendedor.to_sql('d_vendedor', engine, if_exists='append', index=False)\n",
    "f_base_vendas.to_sql('f_base_vendas', engine, if_exists='append', index=False)"
   ]
  }
 ],
 "metadata": {
  "kernelspec": {
   "display_name": "Python 3 (ipykernel)",
   "language": "python",
   "name": "python3"
  },
  "language_info": {
   "codemirror_mode": {
    "name": "ipython",
    "version": 3
   },
   "file_extension": ".py",
   "mimetype": "text/x-python",
   "name": "python",
   "nbconvert_exporter": "python",
   "pygments_lexer": "ipython3",
   "version": "3.8.10"
  }
 },
 "nbformat": 4,
 "nbformat_minor": 5
}
